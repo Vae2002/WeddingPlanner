{
 "cells": [
  {
   "cell_type": "code",
   "execution_count": null,
   "id": "401d50af",
   "metadata": {},
   "outputs": [
    {
     "ename": "",
     "evalue": "",
     "output_type": "error",
     "traceback": [
      "\u001b[1;31mThe kernel failed to start as ' C extension module was built for another version of psutil (5.9.1 instead of 7.0.0); you may try to ' could not be imported from '5.9.1 instead of 7.0.0'.\n",
      "\u001b[1;31mClick <a href='https://aka.ms/kernelFailuresModuleImportErrFromFile'>here</a> for more info."
     ]
    }
   ],
   "source": [
    "latitude = 37.4219999\n",
    "longitude = -122.0840575\n",
    "label = \"My Location\"\n",
    "\n",
    "url = f\"https://www.google.com/maps/search/?api=1&query={latitude},{longitude}&query_place_id={label}\"\n",
    "print(\"Redirect to:\", url)\n"
   ]
  },
  {
   "cell_type": "code",
   "execution_count": null,
   "id": "43edd8eb",
   "metadata": {},
   "outputs": [
    {
     "ename": "",
     "evalue": "",
     "output_type": "error",
     "traceback": [
      "\u001b[1;31mRunning cells with 'base (Python 3.12.2)' requires the ipykernel package.\n",
      "\u001b[1;31m<a href='command:jupyter.createPythonEnvAndSelectController'>Create a Python Environment</a> with the required packages.\n",
      "\u001b[1;31mOr install 'ipykernel' using the command: 'conda install -n base ipykernel --update-deps --force-reinstall'"
     ]
    }
   ],
   "source": [
    "import folium\n",
    "\n",
    "# Coordinates\n",
    "latitude = 37.4219999\n",
    "longitude = -122.0840575\n",
    "\n",
    "# Create map\n",
    "map_object = folium.Map(location=[latitude, longitude], zoom_start=15)\n",
    "\n",
    "# Add marker\n",
    "folium.Marker(\n",
    "    [latitude, longitude],\n",
    "    popup='My Location',\n",
    "    tooltip='Click me!'\n",
    ").add_to(map_object)\n",
    "\n",
    "# Save to HTML or display in Jupyter\n",
    "map_object.save('map.html')\n",
    "# or in Jupyter Notebook: map_object\n"
   ]
  }
 ],
 "metadata": {
  "kernelspec": {
   "display_name": "Python 3",
   "language": "python",
   "name": "python3"
  },
  "language_info": {
   "name": "python",
   "version": "3.11.0"
  }
 },
 "nbformat": 4,
 "nbformat_minor": 5
}
